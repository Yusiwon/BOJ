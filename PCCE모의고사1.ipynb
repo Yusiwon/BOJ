{
  "nbformat": 4,
  "nbformat_minor": 0,
  "metadata": {
    "colab": {
      "provenance": [],
      "toc_visible": true,
      "authorship_tag": "ABX9TyN6pknz+dKyxU5owdfsE1zx",
      "include_colab_link": true
    },
    "kernelspec": {
      "name": "python3",
      "display_name": "Python 3"
    },
    "language_info": {
      "name": "python"
    }
  },
  "cells": [
    {
      "cell_type": "markdown",
      "metadata": {
        "id": "view-in-github",
        "colab_type": "text"
      },
      "source": [
        "<a href=\"https://colab.research.google.com/github/Yusiwon/BOJ/blob/main/PCCE%EB%AA%A8%EC%9D%98%EA%B3%A0%EC%82%AC1.ipynb\" target=\"_parent\"><img src=\"https://colab.research.google.com/assets/colab-badge.svg\" alt=\"Open In Colab\"/></a>"
      ]
    },
    {
      "cell_type": "code",
      "execution_count": null,
      "metadata": {
        "id": "Kmx6SRD2e2dV"
      },
      "outputs": [],
      "source": [
        "# 1번\n",
        "\n",
        "num1 = 100\n",
        "num2 = 200\n",
        "\n",
        "# 출력 코드\n",
        "print(num1 + num2)"
      ]
    }
  ]
}